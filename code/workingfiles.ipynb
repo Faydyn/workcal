{
 "cells": [
  {
   "cell_type": "code",
   "execution_count": 2,
   "metadata": {
    "collapsed": true,
    "pycharm": {
     "is_executing": false
    }
   },
   "outputs": [
    {
     "data": {
      "text/plain": "        datetime_shift  amount_min\n0  2019-01-18 20:30:00          30\n1  2019-09-21 10:30:00         240\n2  2019-09-30 17:00:00         300\n3  2019-10-01 17:00:00         300\n4  2019-10-02 11:00:00         210\n5  2019-10-03 11:00:00         210\n6  2019-10-04 12:00:00         210\n7  2019-10-04 17:00:00         300\n8  2019-10-05 11:00:00         210\n9  2019-10-18 17:00:00         330\n10 2019-10-19 11:00:00         210\n11 2019-10-19 17:00:00         330\n12 2019-10-25 17:00:00         330\n13 2019-10-26 17:00:00         630\n14 2019-10-31 17:00:00         300\n15 2019-11-01 17:00:00         300\n16 2019-11-02 17:00:00         300\n17 2019-11-03 11:00:00         180\n18 2019-11-15 17:30:00         300\n19 2019-11-16 10:30:00         255\n20 2019-11-16 16:30:00         300\n21 2019-11-17 11:00:00         225\n22 2019-11-22 17:00:00         300\n23 2019-11-23 17:00:00         300\n24 2019-11-24 11:00:00         225\n25 2019-11-29 17:00:00         300\n26 2019-11-30 10:30:00         255\n27 2019-12-01 11:00:00         225",
      "text/html": "<div>\n<style scoped>\n    .dataframe tbody tr th:only-of-type {\n        vertical-align: middle;\n    }\n\n    .dataframe tbody tr th {\n        vertical-align: top;\n    }\n\n    .dataframe thead th {\n        text-align: right;\n    }\n</style>\n<table border=\"1\" class=\"dataframe\">\n  <thead>\n    <tr style=\"text-align: right;\">\n      <th></th>\n      <th>datetime_shift</th>\n      <th>amount_min</th>\n    </tr>\n  </thead>\n  <tbody>\n    <tr>\n      <th>0</th>\n      <td>2019-01-18 20:30:00</td>\n      <td>30</td>\n    </tr>\n    <tr>\n      <th>1</th>\n      <td>2019-09-21 10:30:00</td>\n      <td>240</td>\n    </tr>\n    <tr>\n      <th>2</th>\n      <td>2019-09-30 17:00:00</td>\n      <td>300</td>\n    </tr>\n    <tr>\n      <th>3</th>\n      <td>2019-10-01 17:00:00</td>\n      <td>300</td>\n    </tr>\n    <tr>\n      <th>4</th>\n      <td>2019-10-02 11:00:00</td>\n      <td>210</td>\n    </tr>\n    <tr>\n      <th>5</th>\n      <td>2019-10-03 11:00:00</td>\n      <td>210</td>\n    </tr>\n    <tr>\n      <th>6</th>\n      <td>2019-10-04 12:00:00</td>\n      <td>210</td>\n    </tr>\n    <tr>\n      <th>7</th>\n      <td>2019-10-04 17:00:00</td>\n      <td>300</td>\n    </tr>\n    <tr>\n      <th>8</th>\n      <td>2019-10-05 11:00:00</td>\n      <td>210</td>\n    </tr>\n    <tr>\n      <th>9</th>\n      <td>2019-10-18 17:00:00</td>\n      <td>330</td>\n    </tr>\n    <tr>\n      <th>10</th>\n      <td>2019-10-19 11:00:00</td>\n      <td>210</td>\n    </tr>\n    <tr>\n      <th>11</th>\n      <td>2019-10-19 17:00:00</td>\n      <td>330</td>\n    </tr>\n    <tr>\n      <th>12</th>\n      <td>2019-10-25 17:00:00</td>\n      <td>330</td>\n    </tr>\n    <tr>\n      <th>13</th>\n      <td>2019-10-26 17:00:00</td>\n      <td>630</td>\n    </tr>\n    <tr>\n      <th>14</th>\n      <td>2019-10-31 17:00:00</td>\n      <td>300</td>\n    </tr>\n    <tr>\n      <th>15</th>\n      <td>2019-11-01 17:00:00</td>\n      <td>300</td>\n    </tr>\n    <tr>\n      <th>16</th>\n      <td>2019-11-02 17:00:00</td>\n      <td>300</td>\n    </tr>\n    <tr>\n      <th>17</th>\n      <td>2019-11-03 11:00:00</td>\n      <td>180</td>\n    </tr>\n    <tr>\n      <th>18</th>\n      <td>2019-11-15 17:30:00</td>\n      <td>300</td>\n    </tr>\n    <tr>\n      <th>19</th>\n      <td>2019-11-16 10:30:00</td>\n      <td>255</td>\n    </tr>\n    <tr>\n      <th>20</th>\n      <td>2019-11-16 16:30:00</td>\n      <td>300</td>\n    </tr>\n    <tr>\n      <th>21</th>\n      <td>2019-11-17 11:00:00</td>\n      <td>225</td>\n    </tr>\n    <tr>\n      <th>22</th>\n      <td>2019-11-22 17:00:00</td>\n      <td>300</td>\n    </tr>\n    <tr>\n      <th>23</th>\n      <td>2019-11-23 17:00:00</td>\n      <td>300</td>\n    </tr>\n    <tr>\n      <th>24</th>\n      <td>2019-11-24 11:00:00</td>\n      <td>225</td>\n    </tr>\n    <tr>\n      <th>25</th>\n      <td>2019-11-29 17:00:00</td>\n      <td>300</td>\n    </tr>\n    <tr>\n      <th>26</th>\n      <td>2019-11-30 10:30:00</td>\n      <td>255</td>\n    </tr>\n    <tr>\n      <th>27</th>\n      <td>2019-12-01 11:00:00</td>\n      <td>225</td>\n    </tr>\n  </tbody>\n</table>\n</div>"
     },
     "metadata": {},
     "output_type": "execute_result",
     "execution_count": 2
    }
   ],
   "source": [
    "import os\n",
    "import datetime\n",
    "import calendar\n",
    "import pandas as pd\n",
    "\n",
    "\n",
    "ENTRY_NAMES = ['work', 'Work', 'Bar']  # Names used\n",
    "\n",
    "workcal_path = os.path.abspath(os.path.join(os.getcwd(), '..'))\n",
    "rel_path = 'data/workfiles'\n",
    "workfiles_path = os.path.join(workcal_path, rel_path)\n",
    "filelist = os.listdir(workfiles_path)  # makes pathes independent of containing superfolder\n",
    "\n",
    "worktimes_all = []  # stores all for all days the worktimes of a day in list\n",
    "\n",
    "# todo: search all *.ics files via os\n",
    "def delta2min(delta):\n",
    "    return divmod(delta.seconds, 60)[0]\n",
    "\n",
    "for filename in filelist:\n",
    "    try:\n",
    "        with open(os.path.join(workfiles_path, filename), 'r') as file:\n",
    "            content = file.read()\n",
    "            for possible_entry in ENTRY_NAMES:\n",
    "                if possible_entry in content:\n",
    "                    filelines = content.split('\\n')\n",
    "                    worktimes_all.append([x for x in filelines if 'Europe/Berlin:' in x])\n",
    "    except:\n",
    "        pass\n",
    "# ['DTEND;TZID=Europe/Berlin:20191031T220000', 'DTSTART;TZID=Europe/Berlin:20191031T170000']\n",
    "\n",
    "def parse(entry):\n",
    "    kind, dtime = entry.split('Europe/Berlin:')\n",
    "    dtime = datetime.datetime.strptime(dtime, '%Y%m%dT%H%M%S')\n",
    "    kind = 'start' if 'start'.upper() in kind else 'end'\n",
    "    return kind,dtime\n",
    "\n",
    "\n",
    "worktimes_parsed = [[parse(entry)for entry in day]for day in worktimes_all if len(day) == 2]\n",
    "workrange_shift = [(b[1] if a[0] == 'end' else a[1], a[1]-b[1] if a[0] == 'end' else b[1]-a[1]) for a, b in worktimes_parsed]\n",
    "workrange_shift = [(dtime, delta2min(shiftrange)) for dtime,shiftrange in workrange_shift]\n",
    "workrange_shift.sort()\n",
    "\n",
    "df = pd.DataFrame(workrange_shift,columns=['datetime_shift','amount_min'])\n",
    "df"
   ]
  },
  {
   "cell_type": "code",
   "execution_count": 3,
   "outputs": [],
   "source": [
    "import datetime\n",
    "from datetime import date\n",
    "\n",
    "dtime_amountminutes = workrange_shift\n",
    "tday = date.today()\n",
    "endoflastmon = tday - datetime.timedelta(days=tday.day)\n",
    "startoflastmon = endoflastmon - datetime.timedelta(days=endoflastmon.day-1)\n",
    "workedlastmonth = [ws for ws in dtime_amountminutes if startoflastmon <= ws[0].date() <= endoflastmon]"
   ],
   "metadata": {
    "collapsed": false,
    "pycharm": {
     "name": "#%% lastmonth\n",
     "is_executing": false
    }
   }
  },
  {
   "cell_type": "code",
   "execution_count": 4,
   "outputs": [
    {
     "data": {
      "text/plain": "[]"
     },
     "metadata": {},
     "output_type": "execute_result",
     "execution_count": 4
    }
   ],
   "source": [
    "df = pd.DataFrame([list(entry) + 2*[None] for entry in workedlastmonth],columns=['datetime_shiftstart','Arbeitszeit','Pausenzeiten von','Pausenzeiten bis'])\n",
    "df\n",
    "\n",
    "df['Arbeitsbeginn'] = [f'{dt.hour}:{dt.minute if dt.minute != 0 else \"00\"}' for dt in df['datetime_shiftstart']]\n",
    "df['Tag'] = [dt.date().day for dt in df['datetime_shiftstart']]\n",
    "df['Arbeitszeit'] = df['Arbeitszeit'].apply(lambda x: f'{x//60 if x//60 != 0 else \"00\"}:{x%60 if x%60 != 0 else \"00\"}')\n",
    "df['Arbeitsende'] = df['Arbeitsbeginn'] + ',' + df['Arbeitszeit']\n",
    "df['Arbeitsende'] = df['Arbeitsende'].apply(lambda x: [[ int(hm) for hm in t.split(':')] for t in  x.split(',')] )\n",
    "df['Arbeitsende'] = df['Arbeitsende'].apply(lambda x: f'{x[0][0] + x[1][0]}:{x[0][1] + x[1][1] if x[0][1] + x[1][1] != 0 else \"00\"}')\n",
    "\n",
    "split_shift = list(set([ day for day in df['Tag']if list(df['Tag']).count(day) > 1]))\n",
    "\n",
    "def add_worktime_splitshift(x):\n",
    "    return f'{x[0]+x[2]}:{(x[1]+x[3])%60 if (x[1]+x[3])%60 != 0 else \"00\"}'\n",
    "\n",
    "drops = []\n",
    "for i in range(len(df) - 1):\n",
    "    if df.loc[i,'Tag'] == df.loc[i+1,'Tag']:\n",
    "        df.loc[i,'Pausenzeiten von'] = df.loc[i,'Arbeitsende']\n",
    "        df.loc[i,'Pausenzeiten bis'] = df.loc[i+1,'Arbeitsbeginn']\n",
    "        df.loc[i,'Arbeitsende'] = df.loc[i+1,'Arbeitsende']\n",
    "        df.loc[i,'Arbeitszeit'] = add_worktime_splitshift([int(hm) for hm in df.loc[i,'Arbeitszeit'].split(':')] + [int(hm) for hm in df.loc[i+1,'Arbeitszeit'].split(':')])\n",
    "        drops.append(i+1)\n",
    "for row in drops:\n",
    "    df = df.drop(row)\n",
    "    \n",
    "    \n",
    "df = df.drop('datetime_shiftstart',axis=1)\n",
    "df['Entlohnungsart'] = len(df)*[None]\n",
    "\n",
    "c = df.columns.tolist()\n",
    "c[0], c[1], c[2], c[3], c[4], c[5], c[6]  = c[3], c[5], c[1], c[2], c[0], c[6], c[4]\n",
    "df = df[c]\n",
    "df.index += 1\n",
    "df.index[df['Tag'] == 4].tolist()"
   ],
   "metadata": {
    "collapsed": false,
    "pycharm": {
     "name": "#%%\n",
     "is_executing": false
    }
   }
  },
  {
   "cell_type": "code",
   "execution_count": 5,
   "outputs": [
    {
     "data": {
      "text/plain": "    Arbeitsbeginn Arbeitsende Pausenzeiten von Pausenzeiten bis Arbeitszeit  \\\nTag                                                                           \n1           17:00       22:00             None             None        5:00   \n2           17:00       22:00             None             None        5:00   \n3           11:00       14:00             None             None        3:00   \n4            None        None             None             None        None   \n5            None        None             None             None        None   \n6            None        None             None             None        None   \n7            None        None             None             None        None   \n8            None        None             None             None        None   \n9            None        None             None             None        None   \n10           None        None             None             None        None   \n11           None        None             None             None        None   \n12           None        None             None             None        None   \n13           None        None             None             None        None   \n14           None        None             None             None        None   \n15          17:30       22:30             None             None        5:00   \n16          10:30       21:30            14:45            16:30        9:15   \n17          11:00       14:45             None             None        3:45   \n18           None        None             None             None        None   \n19           None        None             None             None        None   \n20           None        None             None             None        None   \n21           None        None             None             None        None   \n22          17:00       22:00             None             None        5:00   \n23          17:00       22:00             None             None        5:00   \n24          11:00       14:45             None             None        3:45   \n25           None        None             None             None        None   \n26           None        None             None             None        None   \n27           None        None             None             None        None   \n28           None        None             None             None        None   \n29          17:00       22:00             None             None        5:00   \n30          10:30       14:45             None             None        4:15   \n31           None        None             None             None        None   \n\n    Entlohnungsart  \nTag                 \n1             None  \n2             None  \n3             None  \n4             None  \n5             None  \n6             None  \n7             None  \n8             None  \n9             None  \n10            None  \n11            None  \n12            None  \n13            None  \n14            None  \n15            None  \n16            None  \n17            None  \n18            None  \n19            None  \n20            None  \n21            None  \n22            None  \n23            None  \n24            None  \n25            None  \n26            None  \n27            None  \n28            None  \n29            None  \n30            None  \n31            None  ",
      "text/html": "<div>\n<style scoped>\n    .dataframe tbody tr th:only-of-type {\n        vertical-align: middle;\n    }\n\n    .dataframe tbody tr th {\n        vertical-align: top;\n    }\n\n    .dataframe thead th {\n        text-align: right;\n    }\n</style>\n<table border=\"1\" class=\"dataframe\">\n  <thead>\n    <tr style=\"text-align: right;\">\n      <th></th>\n      <th>Arbeitsbeginn</th>\n      <th>Arbeitsende</th>\n      <th>Pausenzeiten von</th>\n      <th>Pausenzeiten bis</th>\n      <th>Arbeitszeit</th>\n      <th>Entlohnungsart</th>\n    </tr>\n    <tr>\n      <th>Tag</th>\n      <th></th>\n      <th></th>\n      <th></th>\n      <th></th>\n      <th></th>\n      <th></th>\n    </tr>\n  </thead>\n  <tbody>\n    <tr>\n      <th>1</th>\n      <td>17:00</td>\n      <td>22:00</td>\n      <td>None</td>\n      <td>None</td>\n      <td>5:00</td>\n      <td>None</td>\n    </tr>\n    <tr>\n      <th>2</th>\n      <td>17:00</td>\n      <td>22:00</td>\n      <td>None</td>\n      <td>None</td>\n      <td>5:00</td>\n      <td>None</td>\n    </tr>\n    <tr>\n      <th>3</th>\n      <td>11:00</td>\n      <td>14:00</td>\n      <td>None</td>\n      <td>None</td>\n      <td>3:00</td>\n      <td>None</td>\n    </tr>\n    <tr>\n      <th>4</th>\n      <td>None</td>\n      <td>None</td>\n      <td>None</td>\n      <td>None</td>\n      <td>None</td>\n      <td>None</td>\n    </tr>\n    <tr>\n      <th>5</th>\n      <td>None</td>\n      <td>None</td>\n      <td>None</td>\n      <td>None</td>\n      <td>None</td>\n      <td>None</td>\n    </tr>\n    <tr>\n      <th>6</th>\n      <td>None</td>\n      <td>None</td>\n      <td>None</td>\n      <td>None</td>\n      <td>None</td>\n      <td>None</td>\n    </tr>\n    <tr>\n      <th>7</th>\n      <td>None</td>\n      <td>None</td>\n      <td>None</td>\n      <td>None</td>\n      <td>None</td>\n      <td>None</td>\n    </tr>\n    <tr>\n      <th>8</th>\n      <td>None</td>\n      <td>None</td>\n      <td>None</td>\n      <td>None</td>\n      <td>None</td>\n      <td>None</td>\n    </tr>\n    <tr>\n      <th>9</th>\n      <td>None</td>\n      <td>None</td>\n      <td>None</td>\n      <td>None</td>\n      <td>None</td>\n      <td>None</td>\n    </tr>\n    <tr>\n      <th>10</th>\n      <td>None</td>\n      <td>None</td>\n      <td>None</td>\n      <td>None</td>\n      <td>None</td>\n      <td>None</td>\n    </tr>\n    <tr>\n      <th>11</th>\n      <td>None</td>\n      <td>None</td>\n      <td>None</td>\n      <td>None</td>\n      <td>None</td>\n      <td>None</td>\n    </tr>\n    <tr>\n      <th>12</th>\n      <td>None</td>\n      <td>None</td>\n      <td>None</td>\n      <td>None</td>\n      <td>None</td>\n      <td>None</td>\n    </tr>\n    <tr>\n      <th>13</th>\n      <td>None</td>\n      <td>None</td>\n      <td>None</td>\n      <td>None</td>\n      <td>None</td>\n      <td>None</td>\n    </tr>\n    <tr>\n      <th>14</th>\n      <td>None</td>\n      <td>None</td>\n      <td>None</td>\n      <td>None</td>\n      <td>None</td>\n      <td>None</td>\n    </tr>\n    <tr>\n      <th>15</th>\n      <td>17:30</td>\n      <td>22:30</td>\n      <td>None</td>\n      <td>None</td>\n      <td>5:00</td>\n      <td>None</td>\n    </tr>\n    <tr>\n      <th>16</th>\n      <td>10:30</td>\n      <td>21:30</td>\n      <td>14:45</td>\n      <td>16:30</td>\n      <td>9:15</td>\n      <td>None</td>\n    </tr>\n    <tr>\n      <th>17</th>\n      <td>11:00</td>\n      <td>14:45</td>\n      <td>None</td>\n      <td>None</td>\n      <td>3:45</td>\n      <td>None</td>\n    </tr>\n    <tr>\n      <th>18</th>\n      <td>None</td>\n      <td>None</td>\n      <td>None</td>\n      <td>None</td>\n      <td>None</td>\n      <td>None</td>\n    </tr>\n    <tr>\n      <th>19</th>\n      <td>None</td>\n      <td>None</td>\n      <td>None</td>\n      <td>None</td>\n      <td>None</td>\n      <td>None</td>\n    </tr>\n    <tr>\n      <th>20</th>\n      <td>None</td>\n      <td>None</td>\n      <td>None</td>\n      <td>None</td>\n      <td>None</td>\n      <td>None</td>\n    </tr>\n    <tr>\n      <th>21</th>\n      <td>None</td>\n      <td>None</td>\n      <td>None</td>\n      <td>None</td>\n      <td>None</td>\n      <td>None</td>\n    </tr>\n    <tr>\n      <th>22</th>\n      <td>17:00</td>\n      <td>22:00</td>\n      <td>None</td>\n      <td>None</td>\n      <td>5:00</td>\n      <td>None</td>\n    </tr>\n    <tr>\n      <th>23</th>\n      <td>17:00</td>\n      <td>22:00</td>\n      <td>None</td>\n      <td>None</td>\n      <td>5:00</td>\n      <td>None</td>\n    </tr>\n    <tr>\n      <th>24</th>\n      <td>11:00</td>\n      <td>14:45</td>\n      <td>None</td>\n      <td>None</td>\n      <td>3:45</td>\n      <td>None</td>\n    </tr>\n    <tr>\n      <th>25</th>\n      <td>None</td>\n      <td>None</td>\n      <td>None</td>\n      <td>None</td>\n      <td>None</td>\n      <td>None</td>\n    </tr>\n    <tr>\n      <th>26</th>\n      <td>None</td>\n      <td>None</td>\n      <td>None</td>\n      <td>None</td>\n      <td>None</td>\n      <td>None</td>\n    </tr>\n    <tr>\n      <th>27</th>\n      <td>None</td>\n      <td>None</td>\n      <td>None</td>\n      <td>None</td>\n      <td>None</td>\n      <td>None</td>\n    </tr>\n    <tr>\n      <th>28</th>\n      <td>None</td>\n      <td>None</td>\n      <td>None</td>\n      <td>None</td>\n      <td>None</td>\n      <td>None</td>\n    </tr>\n    <tr>\n      <th>29</th>\n      <td>17:00</td>\n      <td>22:00</td>\n      <td>None</td>\n      <td>None</td>\n      <td>5:00</td>\n      <td>None</td>\n    </tr>\n    <tr>\n      <th>30</th>\n      <td>10:30</td>\n      <td>14:45</td>\n      <td>None</td>\n      <td>None</td>\n      <td>4:15</td>\n      <td>None</td>\n    </tr>\n    <tr>\n      <th>31</th>\n      <td>None</td>\n      <td>None</td>\n      <td>None</td>\n      <td>None</td>\n      <td>None</td>\n      <td>None</td>\n    </tr>\n  </tbody>\n</table>\n</div>"
     },
     "metadata": {},
     "output_type": "execute_result",
     "execution_count": 5
    }
   ],
   "source": [
    "# blank for month\n",
    "blank = [None]*6\n",
    "real = pd.DataFrame([blank]*31,columns=['Arbeitsbeginn','Arbeitsende','Pausenzeiten von','Pausenzeiten bis','Arbeitszeit','Entlohnungsart'])\n",
    "real.index += 1 \n",
    "\n",
    "for i in range(1,32):\n",
    "    isday = df[df['Tag'] == i]\n",
    "    isday = isday.drop('Tag',axis=1)\n",
    "    if not isday.empty:\n",
    "        real.loc[i,:] = isday.iloc[0]\n",
    "        \n",
    "real.index.name = 'Tag'\n",
    "real"
   ],
   "metadata": {
    "collapsed": false,
    "pycharm": {
     "name": "#%%\n",
     "is_executing": false
    }
   }
  },
  {
   "cell_type": "code",
   "execution_count": 14,
   "outputs": [
    {
     "data": {
      "text/plain": "{'/SourceModified': 'D:20150102081434',\n '/Author': 'ADDISON Akadmie',\n '/Subject': 'MiLoG',\n '/Title': 'Stundenaufzeichnung',\n '/CreationDate': \"D:20150102091510+01'00'\",\n '/ModDate': \"D:20191003232132Z00'00'\",\n '/Creator': 'Acrobat PDFMaker 10.1 für Word',\n '/Producer': 'iOS Version 13.1.2 (Build 17A860) Quartz PDFContext, AppendMode 1.1',\n '/Company': 'ADDISON Software und Service GmbH'}"
     },
     "metadata": {},
     "output_type": "execute_result",
     "execution_count": 14
    }
   ],
   "source": [
    "from PyPDF2 import PdfFileReader\n",
    "import tabula\n",
    "\n",
    "fpath = os.path.join(workcal_path, 'data/stundenaufzeichnung_mindestlohn.pdf')\n",
    "with open(fpath, 'rb') as f:\n",
    "    pdf = PdfFileReader(f)\n",
    "    info = pdf.getDocumentInfo()\n",
    "\n",
    "info\n"
   ],
   "metadata": {
    "collapsed": false,
    "pycharm": {
     "name": "#%%\n",
     "is_executing": false
    }
   }
  }
 ],
 "metadata": {
  "kernelspec": {
   "display_name": "Python 3",
   "language": "python",
   "name": "python3"
  },
  "language_info": {
   "codemirror_mode": {
    "name": "ipython",
    "version": 2
   },
   "file_extension": ".py",
   "mimetype": "text/x-python",
   "name": "python",
   "nbconvert_exporter": "python",
   "pygments_lexer": "ipython2",
   "version": "2.7.6"
  },
  "pycharm": {
   "stem_cell": {
    "cell_type": "raw",
    "source": [],
    "metadata": {
     "collapsed": false
    }
   }
  }
 },
 "nbformat": 4,
 "nbformat_minor": 0
}