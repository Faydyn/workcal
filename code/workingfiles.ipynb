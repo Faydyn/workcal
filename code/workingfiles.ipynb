{
 "cells": [
  {
   "cell_type": "code",
   "execution_count": 31,
   "metadata": {
    "collapsed": true,
    "pycharm": {
     "is_executing": false
    }
   },
   "outputs": [
    {
     "data": {
      "text/plain": "        datetime_shift  amount_min\n0  2010-12-10 18:00:00         240\n1  2010-12-18 17:00:00         330\n2  2018-10-13 10:30:00         240\n3  2018-10-13 17:00:00         120\n4  2018-10-14 10:30:00         240\n..                 ...         ...\n89 2019-11-23 17:00:00         300\n90 2019-11-24 11:00:00         225\n91 2019-11-29 17:00:00         300\n92 2019-11-30 10:30:00         255\n93 2019-12-01 11:00:00         225\n\n[94 rows x 2 columns]",
      "text/html": "<div>\n<style scoped>\n    .dataframe tbody tr th:only-of-type {\n        vertical-align: middle;\n    }\n\n    .dataframe tbody tr th {\n        vertical-align: top;\n    }\n\n    .dataframe thead th {\n        text-align: right;\n    }\n</style>\n<table border=\"1\" class=\"dataframe\">\n  <thead>\n    <tr style=\"text-align: right;\">\n      <th></th>\n      <th>datetime_shift</th>\n      <th>amount_min</th>\n    </tr>\n  </thead>\n  <tbody>\n    <tr>\n      <th>0</th>\n      <td>2010-12-10 18:00:00</td>\n      <td>240</td>\n    </tr>\n    <tr>\n      <th>1</th>\n      <td>2010-12-18 17:00:00</td>\n      <td>330</td>\n    </tr>\n    <tr>\n      <th>2</th>\n      <td>2018-10-13 10:30:00</td>\n      <td>240</td>\n    </tr>\n    <tr>\n      <th>3</th>\n      <td>2018-10-13 17:00:00</td>\n      <td>120</td>\n    </tr>\n    <tr>\n      <th>4</th>\n      <td>2018-10-14 10:30:00</td>\n      <td>240</td>\n    </tr>\n    <tr>\n      <th>...</th>\n      <td>...</td>\n      <td>...</td>\n    </tr>\n    <tr>\n      <th>89</th>\n      <td>2019-11-23 17:00:00</td>\n      <td>300</td>\n    </tr>\n    <tr>\n      <th>90</th>\n      <td>2019-11-24 11:00:00</td>\n      <td>225</td>\n    </tr>\n    <tr>\n      <th>91</th>\n      <td>2019-11-29 17:00:00</td>\n      <td>300</td>\n    </tr>\n    <tr>\n      <th>92</th>\n      <td>2019-11-30 10:30:00</td>\n      <td>255</td>\n    </tr>\n    <tr>\n      <th>93</th>\n      <td>2019-12-01 11:00:00</td>\n      <td>225</td>\n    </tr>\n  </tbody>\n</table>\n<p>94 rows × 2 columns</p>\n</div>"
     },
     "metadata": {},
     "output_type": "execute_result",
     "execution_count": 31
    }
   ],
   "source": [
    "import os\n",
    "import datetime\n",
    "import calendar\n",
    "import pandas as pd\n",
    "\n",
    "ENTRY_NAMES = ['work', 'Work', 'Bar']  # Names used\n",
    "\n",
    "workcal_path = os.path.abspath(os.path.join(os.getcwd(), '..'))\n",
    "rel_path = 'data/workfiles'\n",
    "workfiles_path = os.path.join(workcal_path, rel_path)\n",
    "filelist = os.listdir(workfiles_path)  # makes pathes independent of containing superfolder\n",
    "\n",
    "worktimes_all = []  # stores all for all days the worktimes of a day in list\n",
    "\n",
    "# todo: search all *.ics files via os\n",
    "def delta2min(delta):\n",
    "    return divmod(delta.seconds, 60)[0]\n",
    "\n",
    "for filename in filelist:\n",
    "    try:\n",
    "        with open(os.path.join(workfiles_path, filename), 'r') as file:\n",
    "            content = file.read()\n",
    "            for possible_entry in ENTRY_NAMES:\n",
    "                if possible_entry in content:\n",
    "                    filelines = content.split('\\n')\n",
    "                    worktimes_all.append([x for x in filelines if 'Europe/Berlin:' in x])\n",
    "    except:\n",
    "        pass\n",
    "# ['DTEND;TZID=Europe/Berlin:20191031T220000', 'DTSTART;TZID=Europe/Berlin:20191031T170000']\n",
    "\n",
    "def parse(entry):\n",
    "    kind, dtime = entry.split('Europe/Berlin:')\n",
    "    dtime = datetime.datetime.strptime(dtime, '%Y%m%dT%H%M%S')\n",
    "    kind = 'start' if 'start'.upper() in kind else 'end'\n",
    "    return kind,dtime\n",
    "\n",
    "\n",
    "worktimes_parsed = [[parse(entry)for entry in day]for day in worktimes_all if len(day) == 2]\n",
    "workrange_shift = [(b[1] if a[0] == 'end' else a[1], a[1]-b[1] if a[0] == 'end' else b[1]-a[1]) for a, b in worktimes_parsed]\n",
    "workrange_shift = [(dtime, delta2min(shiftrange)) for dtime,shiftrange in workrange_shift]\n",
    "workrange_shift.sort()\n",
    "\n",
    "df = pd.DataFrame(workrange_shift,columns=['datetime_shift','amount_min'])\n",
    "df"
   ]
  },
  {
   "cell_type": "code",
   "execution_count": 32,
   "outputs": [],
   "source": [
    "import datetime\n",
    "from datetime import date\n",
    "\n",
    "dtime_amountminutes = workrange_shift\n",
    "tday = date.today()\n",
    "endoflastmon = tday - datetime.timedelta(days=tday.day)\n",
    "startoflastmon = endoflastmon - datetime.timedelta(days=endoflastmon.day-1)\n",
    "workedlastmonth = [ws for ws in dtime_amountminutes if startoflastmon <= ws[0].date() <= endoflastmon]"
   ],
   "metadata": {
    "collapsed": false,
    "pycharm": {
     "name": "#%% lastmonth\n",
     "is_executing": false
    }
   }
  },
  {
   "cell_type": "code",
   "execution_count": 43,
   "outputs": [
    {
     "data": {
      "text/plain": "   datetime_shiftstart  shift_minutes Arbeitsbeginn  Tag\n0  2019-11-01 17:00:00            300         17:00    1\n1  2019-11-02 17:00:00            300         17:00    2\n2  2019-11-03 11:00:00            180         11:00    3\n3  2019-11-15 17:30:00            300         17:30   15\n4  2019-11-16 10:30:00            255         10:30   16\n5  2019-11-16 16:30:00            300         16:30   16\n6  2019-11-17 11:00:00            225         11:00   17\n7  2019-11-22 17:00:00            300         17:00   22\n8  2019-11-23 17:00:00            300         17:00   23\n9  2019-11-24 11:00:00            225         11:00   24\n10 2019-11-29 17:00:00            300         17:00   29\n11 2019-11-30 10:30:00            255         10:30   30",
      "text/html": "<div>\n<style scoped>\n    .dataframe tbody tr th:only-of-type {\n        vertical-align: middle;\n    }\n\n    .dataframe tbody tr th {\n        vertical-align: top;\n    }\n\n    .dataframe thead th {\n        text-align: right;\n    }\n</style>\n<table border=\"1\" class=\"dataframe\">\n  <thead>\n    <tr style=\"text-align: right;\">\n      <th></th>\n      <th>datetime_shiftstart</th>\n      <th>shift_minutes</th>\n      <th>Arbeitsbeginn</th>\n      <th>Tag</th>\n    </tr>\n  </thead>\n  <tbody>\n    <tr>\n      <th>0</th>\n      <td>2019-11-01 17:00:00</td>\n      <td>300</td>\n      <td>17:00</td>\n      <td>1</td>\n    </tr>\n    <tr>\n      <th>1</th>\n      <td>2019-11-02 17:00:00</td>\n      <td>300</td>\n      <td>17:00</td>\n      <td>2</td>\n    </tr>\n    <tr>\n      <th>2</th>\n      <td>2019-11-03 11:00:00</td>\n      <td>180</td>\n      <td>11:00</td>\n      <td>3</td>\n    </tr>\n    <tr>\n      <th>3</th>\n      <td>2019-11-15 17:30:00</td>\n      <td>300</td>\n      <td>17:30</td>\n      <td>15</td>\n    </tr>\n    <tr>\n      <th>4</th>\n      <td>2019-11-16 10:30:00</td>\n      <td>255</td>\n      <td>10:30</td>\n      <td>16</td>\n    </tr>\n    <tr>\n      <th>5</th>\n      <td>2019-11-16 16:30:00</td>\n      <td>300</td>\n      <td>16:30</td>\n      <td>16</td>\n    </tr>\n    <tr>\n      <th>6</th>\n      <td>2019-11-17 11:00:00</td>\n      <td>225</td>\n      <td>11:00</td>\n      <td>17</td>\n    </tr>\n    <tr>\n      <th>7</th>\n      <td>2019-11-22 17:00:00</td>\n      <td>300</td>\n      <td>17:00</td>\n      <td>22</td>\n    </tr>\n    <tr>\n      <th>8</th>\n      <td>2019-11-23 17:00:00</td>\n      <td>300</td>\n      <td>17:00</td>\n      <td>23</td>\n    </tr>\n    <tr>\n      <th>9</th>\n      <td>2019-11-24 11:00:00</td>\n      <td>225</td>\n      <td>11:00</td>\n      <td>24</td>\n    </tr>\n    <tr>\n      <th>10</th>\n      <td>2019-11-29 17:00:00</td>\n      <td>300</td>\n      <td>17:00</td>\n      <td>29</td>\n    </tr>\n    <tr>\n      <th>11</th>\n      <td>2019-11-30 10:30:00</td>\n      <td>255</td>\n      <td>10:30</td>\n      <td>30</td>\n    </tr>\n  </tbody>\n</table>\n</div>"
     },
     "metadata": {},
     "output_type": "execute_result",
     "execution_count": 43
    }
   ],
   "source": [
    "df = pd.DataFrame(workedlastmonth,columns=['datetime_shiftstart','shift_minutes'])\n",
    "df\n",
    "\n",
    "df['Arbeitsbeginn'] = [f'{dt.hour}:{dt.minute if dt.minute != 0 else \"00\"}' for dt in df['datetime_shiftstart']]\n",
    "df['Tag'] = [dt.date().day for dt in df['datetime_shiftstart']]\n",
    "\n",
    "\n",
    "df"
   ],
   "metadata": {
    "collapsed": false,
    "pycharm": {
     "name": "#%%\n",
     "is_executing": false
    }
   }
  }
 ],
 "metadata": {
  "kernelspec": {
   "display_name": "Python 3",
   "language": "python",
   "name": "python3"
  },
  "language_info": {
   "codemirror_mode": {
    "name": "ipython",
    "version": 2
   },
   "file_extension": ".py",
   "mimetype": "text/x-python",
   "name": "python",
   "nbconvert_exporter": "python",
   "pygments_lexer": "ipython2",
   "version": "2.7.6"
  },
  "pycharm": {
   "stem_cell": {
    "cell_type": "raw",
    "source": [],
    "metadata": {
     "collapsed": false
    }
   }
  }
 },
 "nbformat": 4,
 "nbformat_minor": 0
}